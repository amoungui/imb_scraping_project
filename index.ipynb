{
 "metadata": {
  "language_info": {
   "codemirror_mode": {
    "name": "ipython",
    "version": 3
   },
   "file_extension": ".py",
   "mimetype": "text/x-python",
   "name": "python",
   "nbconvert_exporter": "python",
   "pygments_lexer": "ipython3",
   "version": "3.9.4"
  },
  "orig_nbformat": 2,
  "kernelspec": {
   "name": "python394jvsc74a57bd05816d722a3f6aa50705253c5b625dfd78ce8b94c3c3dcd850208277684c17ed6",
   "display_name": "Python 3.9.4 64-bit ('Python39')"
  }
 },
 "nbformat": 4,
 "nbformat_minor": 2,
 "cells": [
  {
   "cell_type": "code",
   "execution_count": 2,
   "metadata": {},
   "outputs": [],
   "source": [
    "%matplotlib inline\n",
    "import pandas as pd\n",
    "import numpy as np\n",
    "from libs.Currencies import ConverterCurrency as convert\n",
    "import matplotlib.pyplot as plt"
   ]
  },
  {
   "cell_type": "code",
   "execution_count": 3,
   "metadata": {},
   "outputs": [],
   "source": [
    "df = pd.read_csv(\"data/dataset.csv\")"
   ]
  },
  {
   "cell_type": "code",
   "execution_count": 5,
   "metadata": {},
   "outputs": [
    {
     "output_type": "execute_result",
     "data": {
      "text/plain": [
       "                                                                               0  \\\n",
       "title                                                             Hababam Sinifi   \n",
       "rating                                                                       9.3   \n",
       "score                                                                        xxx   \n",
       "vote                                                                      38.126   \n",
       "type                                                               Comedy; Drama   \n",
       "director                                                           Ertem Egilmez   \n",
       "writter                                                               Umur Bugay   \n",
       "duration                                                                1h 27min   \n",
       "release date                                                          1975-04-01   \n",
       "release country                                                           Turkey   \n",
       "location                                               Camlica; Istanbul; Turkey   \n",
       "reviews                                                                       64   \n",
       "storyline                      Lazy, uneducated students share a very close b...   \n",
       "budget en $                                                                  xxx   \n",
       "Opening weekend USA en $                                                     xxx   \n",
       "gross en $                                                                   xxx   \n",
       "Cumulate Worldwide Gross en $                                                xxx   \n",
       "runtime                                                                   87 min   \n",
       "sound Mix                                                                    xxx   \n",
       "Color                                                                        xxx   \n",
       "Aspect Ratio                                                                 xxx   \n",
       "\n",
       "                                                                               1  \\\n",
       "title                                                                 Les Évadés   \n",
       "rating                                                                       9.3   \n",
       "score                                                                         80   \n",
       "vote                                                                   2.390.405   \n",
       "type                                                                       Drama   \n",
       "director                                                          Frank Darabont   \n",
       "writter                                                             Stephen King   \n",
       "duration                                                                2h 22min   \n",
       "release date                                                           1995-03-1   \n",
       "release country                                                              USA   \n",
       "location                             Sandy Point; St. Croix; U.S. Virgin Islands   \n",
       "reviews                                                                     9060   \n",
       "storyline                      Chronicles the experiences of a formerly succe...   \n",
       "budget en $                                                          $25.000.000   \n",
       "Opening weekend USA en $                                                 727.327   \n",
       "gross en $                                                            28.699.976   \n",
       "Cumulate Worldwide Gross en $                                         28.817.291   \n",
       "runtime                                                                  142 min   \n",
       "sound Mix                                                          Dolby Digital   \n",
       "Color                                                                      Color   \n",
       "Aspect Ratio                                                            1.85 : 1   \n",
       "\n",
       "                                                                               2  \\\n",
       "title                                                                   Aynabaji   \n",
       "rating                                                                       9.2   \n",
       "score                                                                        xxx   \n",
       "vote                                                                      23.720   \n",
       "type                                                             Crime; Mystery;   \n",
       "director                                                  Amitabh Reza Chowdhury   \n",
       "writter                                                   Syed Gaosul Alam Shaon   \n",
       "duration                                                                2h 27min   \n",
       "release date                                                          2016-11-17   \n",
       "release country                                                       Bangladesh   \n",
       "location                                                       Dhaka; Bangladesh   \n",
       "reviews                                                                      173   \n",
       "storyline                      Ayna is an actor and the prison is his stage. ...   \n",
       "budget en $                                                        BDT35.000.000   \n",
       "Opening weekend USA en $                                                     xxx   \n",
       "gross en $                                                                   xxx   \n",
       "Cumulate Worldwide Gross en $                                                xxx   \n",
       "runtime                                                                  147 min   \n",
       "sound Mix                                                                    xxx   \n",
       "Color                                                                        xxx   \n",
       "Aspect Ratio                                                                 xxx   \n",
       "\n",
       "                                                                               3  \\\n",
       "title                                                                 Le parrain   \n",
       "rating                                                                       9.2   \n",
       "score                                                                        100   \n",
       "vote                                                                   1.656.309   \n",
       "type                                                                Crime; Drama   \n",
       "director                                                    Francis Ford Coppola   \n",
       "writter                                                               Mario Puzo   \n",
       "duration                                                                2h 55min   \n",
       "release date                                                          1972-10-18   \n",
       "release country                                                              USA   \n",
       "location                       NY Eye and Ear Infirmary; 2nd Avenue & East 13...   \n",
       "reviews                                                                     4398   \n",
       "storyline                      The Godfather \"Don\" Vito Corleone is the head ...   \n",
       "budget en $                                                           $6.000.000   \n",
       "Opening weekend USA en $                                                 302.393   \n",
       "gross en $                                                           134.966.411   \n",
       "Cumulate Worldwide Gross en $                                        246.120.986   \n",
       "runtime                                                                  175 min   \n",
       "sound Mix                                              DTS\\r\\n(re-release)| Mono   \n",
       "Color                                                     Color\\r\\n(Technicolor)   \n",
       "Aspect Ratio                                                            1.85 : 1   \n",
       "\n",
       "                                                                               4  \n",
       "title                                                            Soorarai Pottru  \n",
       "rating                                                                       9.1  \n",
       "score                                                                        xxx  \n",
       "vote                                                                      65.147  \n",
       "type                                                                       Drama  \n",
       "director                                                           Sudha Kongara  \n",
       "writter                                                            Sudha Kongara  \n",
       "duration                                                                2h 33min  \n",
       "release date                                                          2020-11-11  \n",
       "release country                                                            India  \n",
       "location                                              Madurai; Tamil Nadu; India  \n",
       "reviews                                                                     1712  \n",
       "storyline                      Inspired by the book 'Simply Fly', the film te...  \n",
       "budget en $                                                       INR150.000.000  \n",
       "Opening weekend USA en $                                                     xxx  \n",
       "gross en $                                                                   xxx  \n",
       "Cumulate Worldwide Gross en $                                                xxx  \n",
       "runtime                                                                  153 min  \n",
       "sound Mix                                                                    xxx  \n",
       "Color                                                                        xxx  \n",
       "Aspect Ratio                                                                 xxx  "
      ],
      "text/html": "<div>\n<style scoped>\n    .dataframe tbody tr th:only-of-type {\n        vertical-align: middle;\n    }\n\n    .dataframe tbody tr th {\n        vertical-align: top;\n    }\n\n    .dataframe thead th {\n        text-align: right;\n    }\n</style>\n<table border=\"1\" class=\"dataframe\">\n  <thead>\n    <tr style=\"text-align: right;\">\n      <th></th>\n      <th>0</th>\n      <th>1</th>\n      <th>2</th>\n      <th>3</th>\n      <th>4</th>\n    </tr>\n  </thead>\n  <tbody>\n    <tr>\n      <th>title</th>\n      <td>Hababam Sinifi</td>\n      <td>Les Évadés</td>\n      <td>Aynabaji</td>\n      <td>Le parrain</td>\n      <td>Soorarai Pottru</td>\n    </tr>\n    <tr>\n      <th>rating</th>\n      <td>9.3</td>\n      <td>9.3</td>\n      <td>9.2</td>\n      <td>9.2</td>\n      <td>9.1</td>\n    </tr>\n    <tr>\n      <th>score</th>\n      <td>xxx</td>\n      <td>80</td>\n      <td>xxx</td>\n      <td>100</td>\n      <td>xxx</td>\n    </tr>\n    <tr>\n      <th>vote</th>\n      <td>38.126</td>\n      <td>2.390.405</td>\n      <td>23.720</td>\n      <td>1.656.309</td>\n      <td>65.147</td>\n    </tr>\n    <tr>\n      <th>type</th>\n      <td>Comedy; Drama</td>\n      <td>Drama</td>\n      <td>Crime; Mystery;</td>\n      <td>Crime; Drama</td>\n      <td>Drama</td>\n    </tr>\n    <tr>\n      <th>director</th>\n      <td>Ertem Egilmez</td>\n      <td>Frank Darabont</td>\n      <td>Amitabh Reza Chowdhury</td>\n      <td>Francis Ford Coppola</td>\n      <td>Sudha Kongara</td>\n    </tr>\n    <tr>\n      <th>writter</th>\n      <td>Umur Bugay</td>\n      <td>Stephen King</td>\n      <td>Syed Gaosul Alam Shaon</td>\n      <td>Mario Puzo</td>\n      <td>Sudha Kongara</td>\n    </tr>\n    <tr>\n      <th>duration</th>\n      <td>1h 27min</td>\n      <td>2h 22min</td>\n      <td>2h 27min</td>\n      <td>2h 55min</td>\n      <td>2h 33min</td>\n    </tr>\n    <tr>\n      <th>release date</th>\n      <td>1975-04-01</td>\n      <td>1995-03-1</td>\n      <td>2016-11-17</td>\n      <td>1972-10-18</td>\n      <td>2020-11-11</td>\n    </tr>\n    <tr>\n      <th>release country</th>\n      <td>Turkey</td>\n      <td>USA</td>\n      <td>Bangladesh</td>\n      <td>USA</td>\n      <td>India</td>\n    </tr>\n    <tr>\n      <th>location</th>\n      <td>Camlica; Istanbul; Turkey</td>\n      <td>Sandy Point; St. Croix; U.S. Virgin Islands</td>\n      <td>Dhaka; Bangladesh</td>\n      <td>NY Eye and Ear Infirmary; 2nd Avenue &amp; East 13...</td>\n      <td>Madurai; Tamil Nadu; India</td>\n    </tr>\n    <tr>\n      <th>reviews</th>\n      <td>64</td>\n      <td>9060</td>\n      <td>173</td>\n      <td>4398</td>\n      <td>1712</td>\n    </tr>\n    <tr>\n      <th>storyline</th>\n      <td>Lazy, uneducated students share a very close b...</td>\n      <td>Chronicles the experiences of a formerly succe...</td>\n      <td>Ayna is an actor and the prison is his stage. ...</td>\n      <td>The Godfather \"Don\" Vito Corleone is the head ...</td>\n      <td>Inspired by the book 'Simply Fly', the film te...</td>\n    </tr>\n    <tr>\n      <th>budget en $</th>\n      <td>xxx</td>\n      <td>$25.000.000</td>\n      <td>BDT35.000.000</td>\n      <td>$6.000.000</td>\n      <td>INR150.000.000</td>\n    </tr>\n    <tr>\n      <th>Opening weekend USA en $</th>\n      <td>xxx</td>\n      <td>727.327</td>\n      <td>xxx</td>\n      <td>302.393</td>\n      <td>xxx</td>\n    </tr>\n    <tr>\n      <th>gross en $</th>\n      <td>xxx</td>\n      <td>28.699.976</td>\n      <td>xxx</td>\n      <td>134.966.411</td>\n      <td>xxx</td>\n    </tr>\n    <tr>\n      <th>Cumulate Worldwide Gross en $</th>\n      <td>xxx</td>\n      <td>28.817.291</td>\n      <td>xxx</td>\n      <td>246.120.986</td>\n      <td>xxx</td>\n    </tr>\n    <tr>\n      <th>runtime</th>\n      <td>87 min</td>\n      <td>142 min</td>\n      <td>147 min</td>\n      <td>175 min</td>\n      <td>153 min</td>\n    </tr>\n    <tr>\n      <th>sound Mix</th>\n      <td>xxx</td>\n      <td>Dolby Digital</td>\n      <td>xxx</td>\n      <td>DTS\\r\\n(re-release)| Mono</td>\n      <td>xxx</td>\n    </tr>\n    <tr>\n      <th>Color</th>\n      <td>xxx</td>\n      <td>Color</td>\n      <td>xxx</td>\n      <td>Color\\r\\n(Technicolor)</td>\n      <td>xxx</td>\n    </tr>\n    <tr>\n      <th>Aspect Ratio</th>\n      <td>xxx</td>\n      <td>1.85 : 1</td>\n      <td>xxx</td>\n      <td>1.85 : 1</td>\n      <td>xxx</td>\n    </tr>\n  </tbody>\n</table>\n</div>"
     },
     "metadata": {},
     "execution_count": 5
    }
   ],
   "source": [
    "df.head(5).transpose()"
   ]
  },
  {
   "cell_type": "code",
   "execution_count": 11,
   "metadata": {},
   "outputs": [
    {
     "output_type": "error",
     "ename": "KeyError",
     "evalue": "'USD'",
     "traceback": [
      "\u001b[1;31m---------------------------------------------------------------------------\u001b[0m",
      "\u001b[1;31mKeyError\u001b[0m                                  Traceback (most recent call last)",
      "\u001b[1;32m<ipython-input-11-be8d3f07e6b2>\u001b[0m in \u001b[0;36m<module>\u001b[1;34m\u001b[0m\n\u001b[1;32m----> 1\u001b[1;33m \u001b[0mcurrent_convert\u001b[0m\u001b[1;33m(\u001b[0m\u001b[0mconvert\u001b[0m\u001b[1;33m.\u001b[0m\u001b[0mconvert\u001b[0m\u001b[1;33m(\u001b[0m\u001b[0mconvert\u001b[0m\u001b[1;33m,\u001b[0m\u001b[1;36m1.0\u001b[0m\u001b[1;33m,\u001b[0m\u001b[1;34m\"USD\"\u001b[0m\u001b[1;33m,\u001b[0m\u001b[1;34m\"USD\"\u001b[0m\u001b[1;33m)\u001b[0m\u001b[1;33m)\u001b[0m\u001b[1;33m\u001b[0m\u001b[1;33m\u001b[0m\u001b[0m\n\u001b[0m",
      "\u001b[1;32mc:\\Users\\Amoungui\\Documents\\Cours Master-DA\\Scrapping de données\\my_project\\libs\\Currencies.py\u001b[0m in \u001b[0;36mconvert\u001b[1;34m(self, amount, from_currency, to_currency)\u001b[0m\n\u001b[0;32m     27\u001b[0m         \u001b[0minitial_amount\u001b[0m \u001b[1;33m=\u001b[0m \u001b[0mamount\u001b[0m\u001b[1;33m\u001b[0m\u001b[1;33m\u001b[0m\u001b[0m\n\u001b[0;32m     28\u001b[0m         \u001b[1;32mif\u001b[0m \u001b[0mfrom_currency\u001b[0m \u001b[1;33m!=\u001b[0m \u001b[1;34m\"EUR\"\u001b[0m\u001b[1;33m:\u001b[0m\u001b[1;33m\u001b[0m\u001b[1;33m\u001b[0m\u001b[0m\n\u001b[1;32m---> 29\u001b[1;33m             \u001b[0mamount\u001b[0m \u001b[1;33m=\u001b[0m \u001b[0mamount\u001b[0m \u001b[1;33m/\u001b[0m \u001b[0mself\u001b[0m\u001b[1;33m.\u001b[0m\u001b[0mrates\u001b[0m\u001b[1;33m[\u001b[0m\u001b[0mfrom_currency\u001b[0m\u001b[1;33m]\u001b[0m\u001b[1;33m\u001b[0m\u001b[1;33m\u001b[0m\u001b[0m\n\u001b[0m\u001b[0;32m     30\u001b[0m         \u001b[1;32mif\u001b[0m \u001b[0mto_currency\u001b[0m \u001b[1;33m==\u001b[0m \u001b[1;34m\"EUR\"\u001b[0m\u001b[1;33m:\u001b[0m\u001b[1;33m\u001b[0m\u001b[1;33m\u001b[0m\u001b[0m\n\u001b[0;32m     31\u001b[0m             \u001b[1;32mreturn\u001b[0m \u001b[0minitial_amount\u001b[0m\u001b[1;33m,\u001b[0m \u001b[0mfrom_currency\u001b[0m\u001b[1;33m,\u001b[0m \u001b[1;34m'='\u001b[0m\u001b[1;33m,\u001b[0m \u001b[0mamount\u001b[0m\u001b[1;33m,\u001b[0m \u001b[0mto_currency\u001b[0m\u001b[1;33m\u001b[0m\u001b[1;33m\u001b[0m\u001b[0m\n",
      "\u001b[1;31mKeyError\u001b[0m: 'USD'"
     ]
    }
   ],
   "source": [
    "current_convert(convert.convert(convert,1.0,\"USD\",\"USD\"))"
   ]
  },
  {
   "cell_type": "code",
   "execution_count": null,
   "metadata": {},
   "outputs": [],
   "source": []
  }
 ]
}