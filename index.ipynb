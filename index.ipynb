{
 "metadata": {
  "language_info": {
   "codemirror_mode": {
    "name": "ipython",
    "version": 3
   },
   "file_extension": ".py",
   "mimetype": "text/x-python",
   "name": "python",
   "nbconvert_exporter": "python",
   "pygments_lexer": "ipython3",
   "version": "3.9.4"
  },
  "orig_nbformat": 2,
  "kernelspec": {
   "name": "python394jvsc74a57bd05816d722a3f6aa50705253c5b625dfd78ce8b94c3c3dcd850208277684c17ed6",
   "display_name": "Python 3.9.4 64-bit"
  }
 },
 "nbformat": 4,
 "nbformat_minor": 2,
 "cells": [
  {
   "cell_type": "code",
   "execution_count": 24,
   "metadata": {},
   "outputs": [],
   "source": [
    "%matplotlib inline\n",
    "import pandas as pd\n",
    "import numpy as np\n",
    "import matplotlib.pyplot as plt"
   ]
  },
  {
   "cell_type": "code",
   "execution_count": 25,
   "metadata": {},
   "outputs": [],
   "source": [
    "df = pd.read_csv(\"data/dataset.csv\")"
   ]
  },
  {
   "cell_type": "code",
   "execution_count": 26,
   "metadata": {},
   "outputs": [
    {
     "output_type": "execute_result",
     "data": {
      "text/plain": [
       "             title  rating score       vote             type  \\\n",
       "0   Hababam Sinifi     9.3   xxx     38.119    Comedy; Drama   \n",
       "1       Les Évadés     9.3    80  2.389.579            Drama   \n",
       "2         Aynabaji     9.2   xxx     23.700  Crime; Mystery;   \n",
       "3       Le parrain     9.2   100  1.655.784     Crime; Drama   \n",
       "4  Soorarai Pottru     9.1   xxx     63.449            Drama   \n",
       "\n",
       "                 director                 writter  duration  \\\n",
       "0           Ertem Egilmez              Umur Bugay  1h 27min   \n",
       "1          Frank Darabont            Stephen King  2h 22min   \n",
       "2  Amitabh Reza Chowdhury  Syed Gaosul Alam Shaon  2h 27min   \n",
       "3    Francis Ford Coppola              Mario Puzo  2h 55min   \n",
       "4           Sudha Kongara           Sudha Kongara  2h 33min   \n",
       "\n",
       "                release date release country  ... reviews  \\\n",
       "0        April 1975 (Turkey)          Turkey  ...      64   \n",
       "1      1 March 1995 (France)         (France  ...    9056   \n",
       "2  17 November 2016 (France)    2016 (France  ...     173   \n",
       "3   18 October 1972 (France)     972 (France  ...    4397   \n",
       "4  11 November 2020 (France)    2020 (France  ...    1673   \n",
       "\n",
       "                                           storyline          budget  \\\n",
       "0  Lazy, uneducated students share a very close b...             xxx   \n",
       "1  Chronicles the experiences of a formerly succe...     $25.000.000   \n",
       "2  Ayna is an actor and the prison is his stage. ...   BDT35.000.000   \n",
       "3  The Godfather \"Don\" Vito Corleone is the head ...      $6.000.000   \n",
       "4  Inspired by the book 'Simply Fly', the film te...  INR150.000.000   \n",
       "\n",
       "  Opening weekend USA        gross Cumulate Worldwide Gross  runtime  \\\n",
       "0                 xxx          xxx                      NaN   87 min   \n",
       "1             727.327   28.699.976               28.817.291  142 min   \n",
       "2                 xxx          xxx                      NaN  147 min   \n",
       "3             302.393  134.966.411              246.120.986  175 min   \n",
       "4                 xxx          xxx                      NaN  153 min   \n",
       "\n",
       "                   sound Mix                   Color Aspect Ratio  \n",
       "0                        xxx                     xxx          xxx  \n",
       "1              Dolby Digital                   Color     1.85 : 1  \n",
       "2                        xxx                     xxx          xxx  \n",
       "3  DTS\\r\\n(re-release)| Mono  Color\\r\\n(Technicolor)     1.85 : 1  \n",
       "4                        xxx                     xxx          xxx  \n",
       "\n",
       "[5 rows x 21 columns]"
      ],
      "text/html": "<div>\n<style scoped>\n    .dataframe tbody tr th:only-of-type {\n        vertical-align: middle;\n    }\n\n    .dataframe tbody tr th {\n        vertical-align: top;\n    }\n\n    .dataframe thead th {\n        text-align: right;\n    }\n</style>\n<table border=\"1\" class=\"dataframe\">\n  <thead>\n    <tr style=\"text-align: right;\">\n      <th></th>\n      <th>title</th>\n      <th>rating</th>\n      <th>score</th>\n      <th>vote</th>\n      <th>type</th>\n      <th>director</th>\n      <th>writter</th>\n      <th>duration</th>\n      <th>release date</th>\n      <th>release country</th>\n      <th>...</th>\n      <th>reviews</th>\n      <th>storyline</th>\n      <th>budget</th>\n      <th>Opening weekend USA</th>\n      <th>gross</th>\n      <th>Cumulate Worldwide Gross</th>\n      <th>runtime</th>\n      <th>sound Mix</th>\n      <th>Color</th>\n      <th>Aspect Ratio</th>\n    </tr>\n  </thead>\n  <tbody>\n    <tr>\n      <th>0</th>\n      <td>Hababam Sinifi</td>\n      <td>9.3</td>\n      <td>xxx</td>\n      <td>38.119</td>\n      <td>Comedy; Drama</td>\n      <td>Ertem Egilmez</td>\n      <td>Umur Bugay</td>\n      <td>1h 27min</td>\n      <td>April 1975 (Turkey)</td>\n      <td>Turkey</td>\n      <td>...</td>\n      <td>64</td>\n      <td>Lazy, uneducated students share a very close b...</td>\n      <td>xxx</td>\n      <td>xxx</td>\n      <td>xxx</td>\n      <td>NaN</td>\n      <td>87 min</td>\n      <td>xxx</td>\n      <td>xxx</td>\n      <td>xxx</td>\n    </tr>\n    <tr>\n      <th>1</th>\n      <td>Les Évadés</td>\n      <td>9.3</td>\n      <td>80</td>\n      <td>2.389.579</td>\n      <td>Drama</td>\n      <td>Frank Darabont</td>\n      <td>Stephen King</td>\n      <td>2h 22min</td>\n      <td>1 March 1995 (France)</td>\n      <td>(France</td>\n      <td>...</td>\n      <td>9056</td>\n      <td>Chronicles the experiences of a formerly succe...</td>\n      <td>$25.000.000</td>\n      <td>727.327</td>\n      <td>28.699.976</td>\n      <td>28.817.291</td>\n      <td>142 min</td>\n      <td>Dolby Digital</td>\n      <td>Color</td>\n      <td>1.85 : 1</td>\n    </tr>\n    <tr>\n      <th>2</th>\n      <td>Aynabaji</td>\n      <td>9.2</td>\n      <td>xxx</td>\n      <td>23.700</td>\n      <td>Crime; Mystery;</td>\n      <td>Amitabh Reza Chowdhury</td>\n      <td>Syed Gaosul Alam Shaon</td>\n      <td>2h 27min</td>\n      <td>17 November 2016 (France)</td>\n      <td>2016 (France</td>\n      <td>...</td>\n      <td>173</td>\n      <td>Ayna is an actor and the prison is his stage. ...</td>\n      <td>BDT35.000.000</td>\n      <td>xxx</td>\n      <td>xxx</td>\n      <td>NaN</td>\n      <td>147 min</td>\n      <td>xxx</td>\n      <td>xxx</td>\n      <td>xxx</td>\n    </tr>\n    <tr>\n      <th>3</th>\n      <td>Le parrain</td>\n      <td>9.2</td>\n      <td>100</td>\n      <td>1.655.784</td>\n      <td>Crime; Drama</td>\n      <td>Francis Ford Coppola</td>\n      <td>Mario Puzo</td>\n      <td>2h 55min</td>\n      <td>18 October 1972 (France)</td>\n      <td>972 (France</td>\n      <td>...</td>\n      <td>4397</td>\n      <td>The Godfather \"Don\" Vito Corleone is the head ...</td>\n      <td>$6.000.000</td>\n      <td>302.393</td>\n      <td>134.966.411</td>\n      <td>246.120.986</td>\n      <td>175 min</td>\n      <td>DTS\\r\\n(re-release)| Mono</td>\n      <td>Color\\r\\n(Technicolor)</td>\n      <td>1.85 : 1</td>\n    </tr>\n    <tr>\n      <th>4</th>\n      <td>Soorarai Pottru</td>\n      <td>9.1</td>\n      <td>xxx</td>\n      <td>63.449</td>\n      <td>Drama</td>\n      <td>Sudha Kongara</td>\n      <td>Sudha Kongara</td>\n      <td>2h 33min</td>\n      <td>11 November 2020 (France)</td>\n      <td>2020 (France</td>\n      <td>...</td>\n      <td>1673</td>\n      <td>Inspired by the book 'Simply Fly', the film te...</td>\n      <td>INR150.000.000</td>\n      <td>xxx</td>\n      <td>xxx</td>\n      <td>NaN</td>\n      <td>153 min</td>\n      <td>xxx</td>\n      <td>xxx</td>\n      <td>xxx</td>\n    </tr>\n  </tbody>\n</table>\n<p>5 rows × 21 columns</p>\n</div>"
     },
     "metadata": {},
     "execution_count": 26
    }
   ],
   "source": [
    "df.head(5)"
   ]
  },
  {
   "cell_type": "code",
   "execution_count": 27,
   "metadata": {},
   "outputs": [
    {
     "output_type": "execute_result",
     "data": {
      "text/plain": [
       "9"
      ]
     },
     "metadata": {},
     "execution_count": 27
    }
   ],
   "source": [
    "len(df)"
   ]
  },
  {
   "cell_type": "code",
   "execution_count": null,
   "metadata": {},
   "outputs": [],
   "source": []
  }
 ]
}