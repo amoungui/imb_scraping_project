{
 "metadata": {
  "language_info": {
   "codemirror_mode": {
    "name": "ipython",
    "version": 3
   },
   "file_extension": ".py",
   "mimetype": "text/x-python",
   "name": "python",
   "nbconvert_exporter": "python",
   "pygments_lexer": "ipython3",
   "version": "3.9.4"
  },
  "orig_nbformat": 2,
  "kernelspec": {
   "name": "python394jvsc74a57bd05816d722a3f6aa50705253c5b625dfd78ce8b94c3c3dcd850208277684c17ed6",
   "display_name": "Python 3.9.4 64-bit"
  }
 },
 "nbformat": 4,
 "nbformat_minor": 2,
 "cells": [
  {
   "cell_type": "code",
   "execution_count": 6,
   "metadata": {},
   "outputs": [],
   "source": [
    "%matplotlib inline\n",
    "import pandas as pd\n",
    "import numpy as np\n",
    "import matplotlib.pyplot as plt"
   ]
  },
  {
   "cell_type": "code",
   "execution_count": 7,
   "metadata": {},
   "outputs": [],
   "source": [
    "df = pd.read_csv(\"data/dataset.csv\")"
   ]
  },
  {
   "cell_type": "code",
   "execution_count": 8,
   "metadata": {},
   "outputs": [
    {
     "output_type": "execute_result",
     "data": {
      "text/plain": [
       "             title  rating score       vote             type        director  \\\n",
       "0   Hababam Sinifi     9.3   xxx     38.133    Comedy; Drama  Frank Darabont   \n",
       "1       Les Évadés     9.3    80  2.391.450            Drama  Frank Darabont   \n",
       "2         Aynabaji     9.2   xxx     23.749  Crime; Mystery;  Frank Darabont   \n",
       "3       Le parrain     9.2   100  1.656.870     Crime; Drama  Frank Darabont   \n",
       "4  Soorarai Pottru     9.1   xxx     69.313            Drama  Frank Darabont   \n",
       "\n",
       "        writter  duration release date release country  ... reviews  \\\n",
       "0  Stephen King  2h 22min    1995-03-1             USA  ...    9064   \n",
       "1  Stephen King  2h 22min    1995-03-1             USA  ...    9064   \n",
       "2  Stephen King  2h 22min    1995-03-1             USA  ...    9064   \n",
       "3  Stephen King  2h 22min    1995-03-1             USA  ...    9064   \n",
       "4  Stephen King  2h 22min    1995-03-1             USA  ...    9064   \n",
       "\n",
       "                                           storyline budget en $  \\\n",
       "0  Chronicles the experiences of a formerly succe...  25000000.0   \n",
       "1  Chronicles the experiences of a formerly succe...  25000000.0   \n",
       "2  Chronicles the experiences of a formerly succe...  25000000.0   \n",
       "3  Chronicles the experiences of a formerly succe...  25000000.0   \n",
       "4  Chronicles the experiences of a formerly succe...  25000000.0   \n",
       "\n",
       "   Opening weekend USA en $  gross en $  Cumulate Worldwide Gross en $  \\\n",
       "0                  727327.0  28699976.0                     28817291.0   \n",
       "1                  727327.0  28699976.0                     28817291.0   \n",
       "2                  727327.0  28699976.0                     28817291.0   \n",
       "3                  727327.0  28699976.0                     28817291.0   \n",
       "4                  727327.0  28699976.0                     28817291.0   \n",
       "\n",
       "   runtime      sound Mix  Color Aspect Ratio  \n",
       "0   87 min  Dolby Digital  Color     1.85 : 1  \n",
       "1  142 min  Dolby Digital  Color     1.85 : 1  \n",
       "2  147 min  Dolby Digital  Color     1.85 : 1  \n",
       "3  175 min  Dolby Digital  Color     1.85 : 1  \n",
       "4  153 min  Dolby Digital  Color     1.85 : 1  \n",
       "\n",
       "[5 rows x 21 columns]"
      ],
      "text/html": "<div>\n<style scoped>\n    .dataframe tbody tr th:only-of-type {\n        vertical-align: middle;\n    }\n\n    .dataframe tbody tr th {\n        vertical-align: top;\n    }\n\n    .dataframe thead th {\n        text-align: right;\n    }\n</style>\n<table border=\"1\" class=\"dataframe\">\n  <thead>\n    <tr style=\"text-align: right;\">\n      <th></th>\n      <th>title</th>\n      <th>rating</th>\n      <th>score</th>\n      <th>vote</th>\n      <th>type</th>\n      <th>director</th>\n      <th>writter</th>\n      <th>duration</th>\n      <th>release date</th>\n      <th>release country</th>\n      <th>...</th>\n      <th>reviews</th>\n      <th>storyline</th>\n      <th>budget en $</th>\n      <th>Opening weekend USA en $</th>\n      <th>gross en $</th>\n      <th>Cumulate Worldwide Gross en $</th>\n      <th>runtime</th>\n      <th>sound Mix</th>\n      <th>Color</th>\n      <th>Aspect Ratio</th>\n    </tr>\n  </thead>\n  <tbody>\n    <tr>\n      <th>0</th>\n      <td>Hababam Sinifi</td>\n      <td>9.3</td>\n      <td>xxx</td>\n      <td>38.133</td>\n      <td>Comedy; Drama</td>\n      <td>Frank Darabont</td>\n      <td>Stephen King</td>\n      <td>2h 22min</td>\n      <td>1995-03-1</td>\n      <td>USA</td>\n      <td>...</td>\n      <td>9064</td>\n      <td>Chronicles the experiences of a formerly succe...</td>\n      <td>25000000.0</td>\n      <td>727327.0</td>\n      <td>28699976.0</td>\n      <td>28817291.0</td>\n      <td>87 min</td>\n      <td>Dolby Digital</td>\n      <td>Color</td>\n      <td>1.85 : 1</td>\n    </tr>\n    <tr>\n      <th>1</th>\n      <td>Les Évadés</td>\n      <td>9.3</td>\n      <td>80</td>\n      <td>2.391.450</td>\n      <td>Drama</td>\n      <td>Frank Darabont</td>\n      <td>Stephen King</td>\n      <td>2h 22min</td>\n      <td>1995-03-1</td>\n      <td>USA</td>\n      <td>...</td>\n      <td>9064</td>\n      <td>Chronicles the experiences of a formerly succe...</td>\n      <td>25000000.0</td>\n      <td>727327.0</td>\n      <td>28699976.0</td>\n      <td>28817291.0</td>\n      <td>142 min</td>\n      <td>Dolby Digital</td>\n      <td>Color</td>\n      <td>1.85 : 1</td>\n    </tr>\n    <tr>\n      <th>2</th>\n      <td>Aynabaji</td>\n      <td>9.2</td>\n      <td>xxx</td>\n      <td>23.749</td>\n      <td>Crime; Mystery;</td>\n      <td>Frank Darabont</td>\n      <td>Stephen King</td>\n      <td>2h 22min</td>\n      <td>1995-03-1</td>\n      <td>USA</td>\n      <td>...</td>\n      <td>9064</td>\n      <td>Chronicles the experiences of a formerly succe...</td>\n      <td>25000000.0</td>\n      <td>727327.0</td>\n      <td>28699976.0</td>\n      <td>28817291.0</td>\n      <td>147 min</td>\n      <td>Dolby Digital</td>\n      <td>Color</td>\n      <td>1.85 : 1</td>\n    </tr>\n    <tr>\n      <th>3</th>\n      <td>Le parrain</td>\n      <td>9.2</td>\n      <td>100</td>\n      <td>1.656.870</td>\n      <td>Crime; Drama</td>\n      <td>Frank Darabont</td>\n      <td>Stephen King</td>\n      <td>2h 22min</td>\n      <td>1995-03-1</td>\n      <td>USA</td>\n      <td>...</td>\n      <td>9064</td>\n      <td>Chronicles the experiences of a formerly succe...</td>\n      <td>25000000.0</td>\n      <td>727327.0</td>\n      <td>28699976.0</td>\n      <td>28817291.0</td>\n      <td>175 min</td>\n      <td>Dolby Digital</td>\n      <td>Color</td>\n      <td>1.85 : 1</td>\n    </tr>\n    <tr>\n      <th>4</th>\n      <td>Soorarai Pottru</td>\n      <td>9.1</td>\n      <td>xxx</td>\n      <td>69.313</td>\n      <td>Drama</td>\n      <td>Frank Darabont</td>\n      <td>Stephen King</td>\n      <td>2h 22min</td>\n      <td>1995-03-1</td>\n      <td>USA</td>\n      <td>...</td>\n      <td>9064</td>\n      <td>Chronicles the experiences of a formerly succe...</td>\n      <td>25000000.0</td>\n      <td>727327.0</td>\n      <td>28699976.0</td>\n      <td>28817291.0</td>\n      <td>153 min</td>\n      <td>Dolby Digital</td>\n      <td>Color</td>\n      <td>1.85 : 1</td>\n    </tr>\n  </tbody>\n</table>\n<p>5 rows × 21 columns</p>\n</div>"
     },
     "metadata": {},
     "execution_count": 8
    }
   ],
   "source": [
    "df.head(5)"
   ]
  },
  {
   "cell_type": "code",
   "execution_count": 69,
   "metadata": {},
   "outputs": [],
   "source": [
    "## 1. Distribution des films par catégorie"
   ]
  },
  {
   "cell_type": "code",
   "execution_count": 9,
   "metadata": {},
   "outputs": [],
   "source": []
  },
  {
   "cell_type": "code",
   "execution_count": 10,
   "metadata": {},
   "outputs": [
    {
     "output_type": "execute_result",
     "data": {
      "text/plain": [
       "type\n",
       "Comedy; Drama                   Hababam Sinifi\n",
       "Comedy; Drama      Maratonci trce pocasni krug\n",
       "Comedy; Drama                 Balkanski spijun\n",
       "Comedy; Drama                       Zügürt Aga\n",
       "Comedy; Drama                        Marmoulak\n",
       "                              ...             \n",
       "Drama; Mystery;                    Le Prestige\n",
       "Animation; Dram        Le tombeau des lucioles\n",
       "Animation; Come      Grand Prix Pignon-sur-Roc\n",
       "Drama; Thriller              La Femme du sable\n",
       "Horror; Mystery                       Psychose\n",
       "Name: title, Length: 123, dtype: object"
      ]
     },
     "metadata": {},
     "execution_count": 10
    }
   ],
   "source": [
    "data = df.set_index('type')\n",
    "data.groupby('type')['title'].apply(lambda x: x)"
   ]
  },
  {
   "cell_type": "code",
   "execution_count": 37,
   "metadata": {},
   "outputs": [
    {
     "output_type": "execute_result",
     "data": {
      "text/plain": [
       "    budget en $           title\n",
       "0    25000000.0  Hababam Sinifi\n",
       "89   25000000.0          Wheels\n",
       "88   25000000.0        Whiplash"
      ],
      "text/html": "<div>\n<style scoped>\n    .dataframe tbody tr th:only-of-type {\n        vertical-align: middle;\n    }\n\n    .dataframe tbody tr th {\n        vertical-align: top;\n    }\n\n    .dataframe thead th {\n        text-align: right;\n    }\n</style>\n<table border=\"1\" class=\"dataframe\">\n  <thead>\n    <tr style=\"text-align: right;\">\n      <th></th>\n      <th>budget en $</th>\n      <th>title</th>\n    </tr>\n  </thead>\n  <tbody>\n    <tr>\n      <th>0</th>\n      <td>25000000.0</td>\n      <td>Hababam Sinifi</td>\n    </tr>\n    <tr>\n      <th>89</th>\n      <td>25000000.0</td>\n      <td>Wheels</td>\n    </tr>\n    <tr>\n      <th>88</th>\n      <td>25000000.0</td>\n      <td>Whiplash</td>\n    </tr>\n  </tbody>\n</table>\n</div>"
     },
     "metadata": {},
     "execution_count": 37
    }
   ],
   "source": [
    "## 2. Top 50 des budgets des films\n",
    "df[['budget en $', 'title']].sort_values('budget en $').head(3)"
   ]
  },
  {
   "cell_type": "code",
   "execution_count": null,
   "metadata": {},
   "outputs": [],
   "source": [
    "## 3. Nombre de films sortie par décennie"
   ]
  },
  {
   "cell_type": "code",
   "execution_count": 38,
   "metadata": {},
   "outputs": [
    {
     "output_type": "execute_result",
     "data": {
      "text/plain": [
       "              rating  reviews   budget en $  Opening weekend USA en $  \\\n",
       "release date                                                            \n",
       "1990          1067.9  1114872  3.075000e+09                89461221.0   \n",
       "\n",
       "                gross en $  Cumulate Worldwide Gross en $  \n",
       "release date                                               \n",
       "1990          3.530097e+09                   3.544527e+09  "
      ],
      "text/html": "<div>\n<style scoped>\n    .dataframe tbody tr th:only-of-type {\n        vertical-align: middle;\n    }\n\n    .dataframe tbody tr th {\n        vertical-align: top;\n    }\n\n    .dataframe thead th {\n        text-align: right;\n    }\n</style>\n<table border=\"1\" class=\"dataframe\">\n  <thead>\n    <tr style=\"text-align: right;\">\n      <th></th>\n      <th>rating</th>\n      <th>reviews</th>\n      <th>budget en $</th>\n      <th>Opening weekend USA en $</th>\n      <th>gross en $</th>\n      <th>Cumulate Worldwide Gross en $</th>\n    </tr>\n    <tr>\n      <th>release date</th>\n      <th></th>\n      <th></th>\n      <th></th>\n      <th></th>\n      <th></th>\n      <th></th>\n    </tr>\n  </thead>\n  <tbody>\n    <tr>\n      <th>1990</th>\n      <td>1067.9</td>\n      <td>1114872</td>\n      <td>3.075000e+09</td>\n      <td>89461221.0</td>\n      <td>3.530097e+09</td>\n      <td>3.544527e+09</td>\n    </tr>\n  </tbody>\n</table>\n</div>"
     },
     "metadata": {},
     "execution_count": 38
    }
   ],
   "source": [
    "df['release date'] = pd.to_datetime(df['release date'])\n",
    "data = df.set_index('release date')\n",
    "data.groupby((data.index.year//10)*10).sum()\n"
   ]
  },
  {
   "cell_type": "code",
   "execution_count": null,
   "metadata": {},
   "outputs": [],
   "source": [
    "## 4 Top 20 films ayant générés le plus de revenu, le moins de revenu."
   ]
  },
  {
   "cell_type": "code",
   "execution_count": null,
   "metadata": {},
   "outputs": [],
   "source": [
    "## 4.1. Top 20 films ayant générés le plus de revenu."
   ]
  },
  {
   "cell_type": "code",
   "execution_count": 35,
   "metadata": {},
   "outputs": [
    {
     "output_type": "execute_result",
     "data": {
      "text/plain": [
       "             title  Cumulate Worldwide Gross en $\n",
       "0   Hababam Sinifi                     28817291.0\n",
       "89          Wheels                     28817291.0\n",
       "88        Whiplash                     28817291.0\n",
       "87      Visaaranai                     28817291.0\n",
       "86           Aruvi                     28817291.0\n",
       "85    Vada Chennai                     28817291.0\n",
       "84        Ratsasan                     28817291.0\n",
       "83        Mahanati                     28817291.0\n",
       "82        Hamilton                     28817291.0\n",
       "81          Asuran                     28817291.0"
      ],
      "text/html": "<div>\n<style scoped>\n    .dataframe tbody tr th:only-of-type {\n        vertical-align: middle;\n    }\n\n    .dataframe tbody tr th {\n        vertical-align: top;\n    }\n\n    .dataframe thead th {\n        text-align: right;\n    }\n</style>\n<table border=\"1\" class=\"dataframe\">\n  <thead>\n    <tr style=\"text-align: right;\">\n      <th></th>\n      <th>title</th>\n      <th>Cumulate Worldwide Gross en $</th>\n    </tr>\n  </thead>\n  <tbody>\n    <tr>\n      <th>0</th>\n      <td>Hababam Sinifi</td>\n      <td>28817291.0</td>\n    </tr>\n    <tr>\n      <th>89</th>\n      <td>Wheels</td>\n      <td>28817291.0</td>\n    </tr>\n    <tr>\n      <th>88</th>\n      <td>Whiplash</td>\n      <td>28817291.0</td>\n    </tr>\n    <tr>\n      <th>87</th>\n      <td>Visaaranai</td>\n      <td>28817291.0</td>\n    </tr>\n    <tr>\n      <th>86</th>\n      <td>Aruvi</td>\n      <td>28817291.0</td>\n    </tr>\n    <tr>\n      <th>85</th>\n      <td>Vada Chennai</td>\n      <td>28817291.0</td>\n    </tr>\n    <tr>\n      <th>84</th>\n      <td>Ratsasan</td>\n      <td>28817291.0</td>\n    </tr>\n    <tr>\n      <th>83</th>\n      <td>Mahanati</td>\n      <td>28817291.0</td>\n    </tr>\n    <tr>\n      <th>82</th>\n      <td>Hamilton</td>\n      <td>28817291.0</td>\n    </tr>\n    <tr>\n      <th>81</th>\n      <td>Asuran</td>\n      <td>28817291.0</td>\n    </tr>\n  </tbody>\n</table>\n</div>"
     },
     "metadata": {},
     "execution_count": 35
    }
   ],
   "source": [
    "df[['title', 'Cumulate Worldwide Gross en $']].sort_values('Cumulate Worldwide Gross en $').head(10)"
   ]
  },
  {
   "cell_type": "code",
   "execution_count": null,
   "metadata": {},
   "outputs": [],
   "source": [
    "## 4.2. Top 20 films ayant générés le moins de revenu."
   ]
  },
  {
   "cell_type": "code",
   "execution_count": 36,
   "metadata": {},
   "outputs": [
    {
     "output_type": "execute_result",
     "data": {
      "text/plain": [
       "                                                 title  \\\n",
       "39                                       Neseli Günler   \n",
       "38                                             Monpura   \n",
       "37                                         Montagne II   \n",
       "36        La condition de l'homme: La prière du soldat   \n",
       "35                         Le Bon, la brute, le truand   \n",
       "34                                        Forrest Gump   \n",
       "33   Le Seigneur des anneaux : La Communauté de l'a...   \n",
       "32                                          Fight Club   \n",
       "30                             Hababam Sinifi Uyaniyor   \n",
       "122                                           Psychose   \n",
       "\n",
       "     Cumulate Worldwide Gross en $  \n",
       "39                      28817291.0  \n",
       "38                      28817291.0  \n",
       "37                      28817291.0  \n",
       "36                      28817291.0  \n",
       "35                      28817291.0  \n",
       "34                      28817291.0  \n",
       "33                      28817291.0  \n",
       "32                      28817291.0  \n",
       "30                      28817291.0  \n",
       "122                     28817291.0  "
      ],
      "text/html": "<div>\n<style scoped>\n    .dataframe tbody tr th:only-of-type {\n        vertical-align: middle;\n    }\n\n    .dataframe tbody tr th {\n        vertical-align: top;\n    }\n\n    .dataframe thead th {\n        text-align: right;\n    }\n</style>\n<table border=\"1\" class=\"dataframe\">\n  <thead>\n    <tr style=\"text-align: right;\">\n      <th></th>\n      <th>title</th>\n      <th>Cumulate Worldwide Gross en $</th>\n    </tr>\n  </thead>\n  <tbody>\n    <tr>\n      <th>39</th>\n      <td>Neseli Günler</td>\n      <td>28817291.0</td>\n    </tr>\n    <tr>\n      <th>38</th>\n      <td>Monpura</td>\n      <td>28817291.0</td>\n    </tr>\n    <tr>\n      <th>37</th>\n      <td>Montagne II</td>\n      <td>28817291.0</td>\n    </tr>\n    <tr>\n      <th>36</th>\n      <td>La condition de l'homme: La prière du soldat</td>\n      <td>28817291.0</td>\n    </tr>\n    <tr>\n      <th>35</th>\n      <td>Le Bon, la brute, le truand</td>\n      <td>28817291.0</td>\n    </tr>\n    <tr>\n      <th>34</th>\n      <td>Forrest Gump</td>\n      <td>28817291.0</td>\n    </tr>\n    <tr>\n      <th>33</th>\n      <td>Le Seigneur des anneaux : La Communauté de l'a...</td>\n      <td>28817291.0</td>\n    </tr>\n    <tr>\n      <th>32</th>\n      <td>Fight Club</td>\n      <td>28817291.0</td>\n    </tr>\n    <tr>\n      <th>30</th>\n      <td>Hababam Sinifi Uyaniyor</td>\n      <td>28817291.0</td>\n    </tr>\n    <tr>\n      <th>122</th>\n      <td>Psychose</td>\n      <td>28817291.0</td>\n    </tr>\n  </tbody>\n</table>\n</div>"
     },
     "metadata": {},
     "execution_count": 36
    }
   ],
   "source": [
    "df[['title', 'Cumulate Worldwide Gross en $']].sort_values('Cumulate Worldwide Gross en $').tail(10)"
   ]
  },
  {
   "cell_type": "code",
   "execution_count": null,
   "metadata": {},
   "outputs": [],
   "source": [
    "## 5. Analyse de la popularité des films en fonction de leurs budgets"
   ]
  },
  {
   "cell_type": "code",
   "execution_count": 33,
   "metadata": {},
   "outputs": [
    {
     "output_type": "execute_result",
     "data": {
      "text/plain": [
       "                                          title       vote\n",
       "budget en $                                               \n",
       "25000000.0                       Usual Suspects  1.006.925\n",
       "25000000.0   Terminator 2 : Le Jugement dernier  1.010.101\n",
       "25000000.0                       Les affranchis  1.041.821\n",
       "25000000.0                   American History X  1.048.805\n",
       "25000000.0                                 Léon  1.055.447\n",
       "...                                         ...        ...\n",
       "25000000.0                     Manichitrathazhu      9.186\n",
       "25000000.0                                Zübük      9.353\n",
       "25000000.0                               Jersey      9.803\n",
       "25000000.0     Vol au-dessus d'un nid de coucou    932.770\n",
       "25000000.0                        The Lion King    960.641\n",
       "\n",
       "[123 rows x 2 columns]"
      ],
      "text/html": "<div>\n<style scoped>\n    .dataframe tbody tr th:only-of-type {\n        vertical-align: middle;\n    }\n\n    .dataframe tbody tr th {\n        vertical-align: top;\n    }\n\n    .dataframe thead th {\n        text-align: right;\n    }\n</style>\n<table border=\"1\" class=\"dataframe\">\n  <thead>\n    <tr style=\"text-align: right;\">\n      <th></th>\n      <th>title</th>\n      <th>vote</th>\n    </tr>\n    <tr>\n      <th>budget en $</th>\n      <th></th>\n      <th></th>\n    </tr>\n  </thead>\n  <tbody>\n    <tr>\n      <th>25000000.0</th>\n      <td>Usual Suspects</td>\n      <td>1.006.925</td>\n    </tr>\n    <tr>\n      <th>25000000.0</th>\n      <td>Terminator 2 : Le Jugement dernier</td>\n      <td>1.010.101</td>\n    </tr>\n    <tr>\n      <th>25000000.0</th>\n      <td>Les affranchis</td>\n      <td>1.041.821</td>\n    </tr>\n    <tr>\n      <th>25000000.0</th>\n      <td>American History X</td>\n      <td>1.048.805</td>\n    </tr>\n    <tr>\n      <th>25000000.0</th>\n      <td>Léon</td>\n      <td>1.055.447</td>\n    </tr>\n    <tr>\n      <th>...</th>\n      <td>...</td>\n      <td>...</td>\n    </tr>\n    <tr>\n      <th>25000000.0</th>\n      <td>Manichitrathazhu</td>\n      <td>9.186</td>\n    </tr>\n    <tr>\n      <th>25000000.0</th>\n      <td>Zübük</td>\n      <td>9.353</td>\n    </tr>\n    <tr>\n      <th>25000000.0</th>\n      <td>Jersey</td>\n      <td>9.803</td>\n    </tr>\n    <tr>\n      <th>25000000.0</th>\n      <td>Vol au-dessus d'un nid de coucou</td>\n      <td>932.770</td>\n    </tr>\n    <tr>\n      <th>25000000.0</th>\n      <td>The Lion King</td>\n      <td>960.641</td>\n    </tr>\n  </tbody>\n</table>\n<p>123 rows × 2 columns</p>\n</div>"
     },
     "metadata": {},
     "execution_count": 33
    }
   ],
   "source": [
    "data = df.set_index('budget en $')\n",
    "data.groupby(by='vote', axis=0, sort=True)[['title', 'vote']].apply(lambda x: x)"
   ]
  },
  {
   "cell_type": "code",
   "execution_count": null,
   "metadata": {},
   "outputs": [],
   "source": [
    "## 6. Distribution des revenus générés par genre de film"
   ]
  },
  {
   "cell_type": "code",
   "execution_count": 48,
   "metadata": {},
   "outputs": [
    {
     "output_type": "execute_result",
     "data": {
      "text/plain": [
       "                                     title  gross en $\n",
       "type                                                  \n",
       "Comedy; Drama               Hababam Sinifi  28699976.0\n",
       "Comedy; Drama  Maratonci trce pocasni krug  28699976.0\n",
       "Comedy; Drama             Balkanski spijun  28699976.0"
      ],
      "text/html": "<div>\n<style scoped>\n    .dataframe tbody tr th:only-of-type {\n        vertical-align: middle;\n    }\n\n    .dataframe tbody tr th {\n        vertical-align: top;\n    }\n\n    .dataframe thead th {\n        text-align: right;\n    }\n</style>\n<table border=\"1\" class=\"dataframe\">\n  <thead>\n    <tr style=\"text-align: right;\">\n      <th></th>\n      <th>title</th>\n      <th>gross en $</th>\n    </tr>\n    <tr>\n      <th>type</th>\n      <th></th>\n      <th></th>\n    </tr>\n  </thead>\n  <tbody>\n    <tr>\n      <th>Comedy; Drama</th>\n      <td>Hababam Sinifi</td>\n      <td>28699976.0</td>\n    </tr>\n    <tr>\n      <th>Comedy; Drama</th>\n      <td>Maratonci trce pocasni krug</td>\n      <td>28699976.0</td>\n    </tr>\n    <tr>\n      <th>Comedy; Drama</th>\n      <td>Balkanski spijun</td>\n      <td>28699976.0</td>\n    </tr>\n  </tbody>\n</table>\n</div>"
     },
     "metadata": {},
     "execution_count": 48
    }
   ],
   "source": [
    "data = df.set_index('type')\n",
    "data.groupby(by='type')[['title', 'gross en $']].apply(lambda x: x).head(3)"
   ]
  },
  {
   "cell_type": "code",
   "execution_count": null,
   "metadata": {},
   "outputs": [],
   "source": [
    "## 7. Top 10 des films par retour sur investissement"
   ]
  },
  {
   "cell_type": "code",
   "execution_count": 49,
   "metadata": {},
   "outputs": [
    {
     "output_type": "execute_result",
     "data": {
      "text/plain": [
       "            title  gross en $\n",
       "0  Hababam Sinifi  28699976.0\n",
       "1      Les Évadés  28699976.0\n",
       "2        Aynabaji  28699976.0"
      ],
      "text/html": "<div>\n<style scoped>\n    .dataframe tbody tr th:only-of-type {\n        vertical-align: middle;\n    }\n\n    .dataframe tbody tr th {\n        vertical-align: top;\n    }\n\n    .dataframe thead th {\n        text-align: right;\n    }\n</style>\n<table border=\"1\" class=\"dataframe\">\n  <thead>\n    <tr style=\"text-align: right;\">\n      <th></th>\n      <th>title</th>\n      <th>gross en $</th>\n    </tr>\n  </thead>\n  <tbody>\n    <tr>\n      <th>0</th>\n      <td>Hababam Sinifi</td>\n      <td>28699976.0</td>\n    </tr>\n    <tr>\n      <th>1</th>\n      <td>Les Évadés</td>\n      <td>28699976.0</td>\n    </tr>\n    <tr>\n      <th>2</th>\n      <td>Aynabaji</td>\n      <td>28699976.0</td>\n    </tr>\n  </tbody>\n</table>\n</div>"
     },
     "metadata": {},
     "execution_count": 49
    }
   ],
   "source": [
    "df.groupby(by='gross en $', axis=0, sort=True)[['title', 'gross en $']].apply(lambda x: x).head(3)"
   ]
  },
  {
   "cell_type": "code",
   "execution_count": null,
   "metadata": {},
   "outputs": [],
   "source": [
    "## 8. Note moyenne par année de sortie de film"
   ]
  },
  {
   "cell_type": "code",
   "execution_count": 47,
   "metadata": {},
   "outputs": [
    {
     "output_type": "execute_result",
     "data": {
      "text/plain": [
       "                gross en $\n",
       "release date              \n",
       "1995          3.530097e+09"
      ],
      "text/html": "<div>\n<style scoped>\n    .dataframe tbody tr th:only-of-type {\n        vertical-align: middle;\n    }\n\n    .dataframe tbody tr th {\n        vertical-align: top;\n    }\n\n    .dataframe thead th {\n        text-align: right;\n    }\n</style>\n<table border=\"1\" class=\"dataframe\">\n  <thead>\n    <tr style=\"text-align: right;\">\n      <th></th>\n      <th>gross en $</th>\n    </tr>\n    <tr>\n      <th>release date</th>\n      <th></th>\n    </tr>\n  </thead>\n  <tbody>\n    <tr>\n      <th>1995</th>\n      <td>3.530097e+09</td>\n    </tr>\n  </tbody>\n</table>\n</div>"
     },
     "metadata": {},
     "execution_count": 47
    }
   ],
   "source": [
    "data = df.set_index('release date')\n",
    "data.groupby(by=data.index.year, axis=0, sort=True)[['title', 'gross en $']].sum()"
   ]
  },
  {
   "cell_type": "code",
   "execution_count": null,
   "metadata": {},
   "outputs": [],
   "source": []
  }
 ]
}