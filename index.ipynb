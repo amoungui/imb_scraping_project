{
 "metadata": {
  "language_info": {
   "codemirror_mode": {
    "name": "ipython",
    "version": 3
   },
   "file_extension": ".py",
   "mimetype": "text/x-python",
   "name": "python",
   "nbconvert_exporter": "python",
   "pygments_lexer": "ipython3",
   "version": "3.9.4"
  },
  "orig_nbformat": 2,
  "kernelspec": {
   "name": "python394jvsc74a57bd05816d722a3f6aa50705253c5b625dfd78ce8b94c3c3dcd850208277684c17ed6",
   "display_name": "Python 3.9.4 64-bit ('Python39')"
  }
 },
 "nbformat": 4,
 "nbformat_minor": 2,
 "cells": [
  {
   "cell_type": "code",
   "execution_count": 17,
   "metadata": {},
   "outputs": [],
   "source": [
    "%matplotlib inline\n",
    "import pandas as pd\n",
    "import numpy as np\n",
    "import matplotlib.pyplot as plt"
   ]
  },
  {
   "cell_type": "code",
   "execution_count": 28,
   "metadata": {},
   "outputs": [],
   "source": [
    "df = pd.read_csv(\"data/dataset.csv\")"
   ]
  },
  {
   "cell_type": "code",
   "execution_count": 29,
   "metadata": {},
   "outputs": [
    {
     "output_type": "execute_result",
     "data": {
      "text/plain": [
       "            title  rating score       vote             type  \\\n",
       "0  Hababam Sinifi     9.3   xxx     38.145    Comedy; Drama   \n",
       "1      Les Évadés     9.3    80  2.392.668            Drama   \n",
       "2        Aynabaji     9.2   xxx     23.791  Crime; Mystery;   \n",
       "3      Le parrain     9.2   100  1.657.565     Crime; Drama   \n",
       "\n",
       "                 director                 writter  duration release date  \\\n",
       "0           Ertem Egilmez              Umur Bugay  1h 27min   1975-04-01   \n",
       "1          Frank Darabont            Stephen King  2h 22min    1995-03-1   \n",
       "2  Amitabh Reza Chowdhury  Syed Gaosul Alam Shaon  2h 27min   2016-11-17   \n",
       "3    Francis Ford Coppola              Mario Puzo  2h 55min   1972-10-18   \n",
       "\n",
       "  release country  ... reviews  \\\n",
       "0          Turkey  ...      65   \n",
       "1             USA  ...    9074   \n",
       "2      Bangladesh  ...     173   \n",
       "3             USA  ...    4406   \n",
       "\n",
       "                                           storyline budget en $  \\\n",
       "0  Lazy, uneducated students share a very close b...         xxx   \n",
       "1  Chronicles the experiences of a formerly succe...  25000000.0   \n",
       "2  Ayna is an actor and the prison is his stage. ...   412946.33   \n",
       "3  The Godfather \"Don\" Vito Corleone is the head ...   6000000.0   \n",
       "\n",
       "  Opening weekend USA en $ gross en $ Cumulate Worldwide Gross en $  runtime  \\\n",
       "0                      xxx        xxx                           xxx   87 min   \n",
       "1                    72732   28699976                      28817291  142 min   \n",
       "2                      xxx        xxx                           xxx  147 min   \n",
       "3                    30239  134966411                     246120986  175 min   \n",
       "\n",
       "                   sound Mix                   Color Aspect Ratio  \n",
       "0                        xxx                     xxx          xxx  \n",
       "1              Dolby Digital                   Color     1.85 : 1  \n",
       "2                        xxx                     xxx          xxx  \n",
       "3  DTS\\r\\n(re-release)| Mono  Color\\r\\n(Technicolor)     1.85 : 1  \n",
       "\n",
       "[4 rows x 21 columns]"
      ],
      "text/html": "<div>\n<style scoped>\n    .dataframe tbody tr th:only-of-type {\n        vertical-align: middle;\n    }\n\n    .dataframe tbody tr th {\n        vertical-align: top;\n    }\n\n    .dataframe thead th {\n        text-align: right;\n    }\n</style>\n<table border=\"1\" class=\"dataframe\">\n  <thead>\n    <tr style=\"text-align: right;\">\n      <th></th>\n      <th>title</th>\n      <th>rating</th>\n      <th>score</th>\n      <th>vote</th>\n      <th>type</th>\n      <th>director</th>\n      <th>writter</th>\n      <th>duration</th>\n      <th>release date</th>\n      <th>release country</th>\n      <th>...</th>\n      <th>reviews</th>\n      <th>storyline</th>\n      <th>budget en $</th>\n      <th>Opening weekend USA en $</th>\n      <th>gross en $</th>\n      <th>Cumulate Worldwide Gross en $</th>\n      <th>runtime</th>\n      <th>sound Mix</th>\n      <th>Color</th>\n      <th>Aspect Ratio</th>\n    </tr>\n  </thead>\n  <tbody>\n    <tr>\n      <th>0</th>\n      <td>Hababam Sinifi</td>\n      <td>9.3</td>\n      <td>xxx</td>\n      <td>38.145</td>\n      <td>Comedy; Drama</td>\n      <td>Ertem Egilmez</td>\n      <td>Umur Bugay</td>\n      <td>1h 27min</td>\n      <td>1975-04-01</td>\n      <td>Turkey</td>\n      <td>...</td>\n      <td>65</td>\n      <td>Lazy, uneducated students share a very close b...</td>\n      <td>xxx</td>\n      <td>xxx</td>\n      <td>xxx</td>\n      <td>xxx</td>\n      <td>87 min</td>\n      <td>xxx</td>\n      <td>xxx</td>\n      <td>xxx</td>\n    </tr>\n    <tr>\n      <th>1</th>\n      <td>Les Évadés</td>\n      <td>9.3</td>\n      <td>80</td>\n      <td>2.392.668</td>\n      <td>Drama</td>\n      <td>Frank Darabont</td>\n      <td>Stephen King</td>\n      <td>2h 22min</td>\n      <td>1995-03-1</td>\n      <td>USA</td>\n      <td>...</td>\n      <td>9074</td>\n      <td>Chronicles the experiences of a formerly succe...</td>\n      <td>25000000.0</td>\n      <td>72732</td>\n      <td>28699976</td>\n      <td>28817291</td>\n      <td>142 min</td>\n      <td>Dolby Digital</td>\n      <td>Color</td>\n      <td>1.85 : 1</td>\n    </tr>\n    <tr>\n      <th>2</th>\n      <td>Aynabaji</td>\n      <td>9.2</td>\n      <td>xxx</td>\n      <td>23.791</td>\n      <td>Crime; Mystery;</td>\n      <td>Amitabh Reza Chowdhury</td>\n      <td>Syed Gaosul Alam Shaon</td>\n      <td>2h 27min</td>\n      <td>2016-11-17</td>\n      <td>Bangladesh</td>\n      <td>...</td>\n      <td>173</td>\n      <td>Ayna is an actor and the prison is his stage. ...</td>\n      <td>412946.33</td>\n      <td>xxx</td>\n      <td>xxx</td>\n      <td>xxx</td>\n      <td>147 min</td>\n      <td>xxx</td>\n      <td>xxx</td>\n      <td>xxx</td>\n    </tr>\n    <tr>\n      <th>3</th>\n      <td>Le parrain</td>\n      <td>9.2</td>\n      <td>100</td>\n      <td>1.657.565</td>\n      <td>Crime; Drama</td>\n      <td>Francis Ford Coppola</td>\n      <td>Mario Puzo</td>\n      <td>2h 55min</td>\n      <td>1972-10-18</td>\n      <td>USA</td>\n      <td>...</td>\n      <td>4406</td>\n      <td>The Godfather \"Don\" Vito Corleone is the head ...</td>\n      <td>6000000.0</td>\n      <td>30239</td>\n      <td>134966411</td>\n      <td>246120986</td>\n      <td>175 min</td>\n      <td>DTS\\r\\n(re-release)| Mono</td>\n      <td>Color\\r\\n(Technicolor)</td>\n      <td>1.85 : 1</td>\n    </tr>\n  </tbody>\n</table>\n<p>4 rows × 21 columns</p>\n</div>"
     },
     "metadata": {},
     "execution_count": 29
    }
   ],
   "source": [
    "df"
   ]
  },
  {
   "cell_type": "code",
   "execution_count": 30,
   "metadata": {},
   "outputs": [],
   "source": [
    "## 1. Distribution des films par catégorie"
   ]
  },
  {
   "cell_type": "code",
   "execution_count": 31,
   "metadata": {},
   "outputs": [
    {
     "output_type": "execute_result",
     "data": {
      "text/plain": [
       "type\n",
       "Comedy; Drama      Hababam Sinifi\n",
       "Drama                  Les Évadés\n",
       "Crime; Mystery;          Aynabaji\n",
       "Crime; Drama           Le parrain\n",
       "Name: title, dtype: object"
      ]
     },
     "metadata": {},
     "execution_count": 31
    }
   ],
   "source": [
    "data = df.set_index('type')\n",
    "data.groupby('type')['title'].apply(lambda x: x)"
   ]
  },
  {
   "cell_type": "code",
   "execution_count": 32,
   "metadata": {},
   "outputs": [
    {
     "output_type": "execute_result",
     "data": {
      "text/plain": [
       "  budget en $       title\n",
       "1  25000000.0  Les Évadés\n",
       "2   412946.33    Aynabaji\n",
       "3   6000000.0  Le parrain"
      ],
      "text/html": "<div>\n<style scoped>\n    .dataframe tbody tr th:only-of-type {\n        vertical-align: middle;\n    }\n\n    .dataframe tbody tr th {\n        vertical-align: top;\n    }\n\n    .dataframe thead th {\n        text-align: right;\n    }\n</style>\n<table border=\"1\" class=\"dataframe\">\n  <thead>\n    <tr style=\"text-align: right;\">\n      <th></th>\n      <th>budget en $</th>\n      <th>title</th>\n    </tr>\n  </thead>\n  <tbody>\n    <tr>\n      <th>1</th>\n      <td>25000000.0</td>\n      <td>Les Évadés</td>\n    </tr>\n    <tr>\n      <th>2</th>\n      <td>412946.33</td>\n      <td>Aynabaji</td>\n    </tr>\n    <tr>\n      <th>3</th>\n      <td>6000000.0</td>\n      <td>Le parrain</td>\n    </tr>\n  </tbody>\n</table>\n</div>"
     },
     "metadata": {},
     "execution_count": 32
    }
   ],
   "source": [
    "## 2. Top 50 des budgets des films\n",
    "df[['budget en $', 'title']].sort_values('budget en $').head(3)"
   ]
  },
  {
   "cell_type": "code",
   "execution_count": 33,
   "metadata": {},
   "outputs": [],
   "source": [
    "## 3. Nombre de films sortie par décennie"
   ]
  },
  {
   "cell_type": "code",
   "execution_count": 34,
   "metadata": {},
   "outputs": [
    {
     "output_type": "execute_result",
     "data": {
      "text/plain": [
       "              rating  reviews\n",
       "release date                 \n",
       "1970            18.5     4471\n",
       "1990             9.3     9074\n",
       "2010             9.2      173"
      ],
      "text/html": "<div>\n<style scoped>\n    .dataframe tbody tr th:only-of-type {\n        vertical-align: middle;\n    }\n\n    .dataframe tbody tr th {\n        vertical-align: top;\n    }\n\n    .dataframe thead th {\n        text-align: right;\n    }\n</style>\n<table border=\"1\" class=\"dataframe\">\n  <thead>\n    <tr style=\"text-align: right;\">\n      <th></th>\n      <th>rating</th>\n      <th>reviews</th>\n    </tr>\n    <tr>\n      <th>release date</th>\n      <th></th>\n      <th></th>\n    </tr>\n  </thead>\n  <tbody>\n    <tr>\n      <th>1970</th>\n      <td>18.5</td>\n      <td>4471</td>\n    </tr>\n    <tr>\n      <th>1990</th>\n      <td>9.3</td>\n      <td>9074</td>\n    </tr>\n    <tr>\n      <th>2010</th>\n      <td>9.2</td>\n      <td>173</td>\n    </tr>\n  </tbody>\n</table>\n</div>"
     },
     "metadata": {},
     "execution_count": 34
    }
   ],
   "source": [
    "df['release date'] = pd.to_datetime(df['release date'])\n",
    "data = df.set_index('release date')\n",
    "data.groupby((data.index.year//10)*10).sum()\n"
   ]
  },
  {
   "cell_type": "code",
   "execution_count": 35,
   "metadata": {},
   "outputs": [],
   "source": [
    "## 4 Top 20 films ayant générés le plus de revenu, le moins de revenu."
   ]
  },
  {
   "cell_type": "code",
   "execution_count": 36,
   "metadata": {},
   "outputs": [],
   "source": [
    "## 4.1. Top 20 films ayant générés le plus de revenu."
   ]
  },
  {
   "cell_type": "code",
   "execution_count": 37,
   "metadata": {},
   "outputs": [
    {
     "output_type": "execute_result",
     "data": {
      "text/plain": [
       "            title Cumulate Worldwide Gross en $\n",
       "3      Le parrain                     246120986\n",
       "1      Les Évadés                      28817291\n",
       "0  Hababam Sinifi                           xxx\n",
       "2        Aynabaji                           xxx"
      ],
      "text/html": "<div>\n<style scoped>\n    .dataframe tbody tr th:only-of-type {\n        vertical-align: middle;\n    }\n\n    .dataframe tbody tr th {\n        vertical-align: top;\n    }\n\n    .dataframe thead th {\n        text-align: right;\n    }\n</style>\n<table border=\"1\" class=\"dataframe\">\n  <thead>\n    <tr style=\"text-align: right;\">\n      <th></th>\n      <th>title</th>\n      <th>Cumulate Worldwide Gross en $</th>\n    </tr>\n  </thead>\n  <tbody>\n    <tr>\n      <th>3</th>\n      <td>Le parrain</td>\n      <td>246120986</td>\n    </tr>\n    <tr>\n      <th>1</th>\n      <td>Les Évadés</td>\n      <td>28817291</td>\n    </tr>\n    <tr>\n      <th>0</th>\n      <td>Hababam Sinifi</td>\n      <td>xxx</td>\n    </tr>\n    <tr>\n      <th>2</th>\n      <td>Aynabaji</td>\n      <td>xxx</td>\n    </tr>\n  </tbody>\n</table>\n</div>"
     },
     "metadata": {},
     "execution_count": 37
    }
   ],
   "source": [
    "df[['title', 'Cumulate Worldwide Gross en $']].sort_values('Cumulate Worldwide Gross en $').head(10)"
   ]
  },
  {
   "cell_type": "code",
   "execution_count": 38,
   "metadata": {},
   "outputs": [],
   "source": [
    "## 4.2. Top 20 films ayant générés le moins de revenu."
   ]
  },
  {
   "cell_type": "code",
   "execution_count": 39,
   "metadata": {},
   "outputs": [
    {
     "output_type": "execute_result",
     "data": {
      "text/plain": [
       "            title Cumulate Worldwide Gross en $\n",
       "3      Le parrain                     246120986\n",
       "1      Les Évadés                      28817291\n",
       "0  Hababam Sinifi                           xxx\n",
       "2        Aynabaji                           xxx"
      ],
      "text/html": "<div>\n<style scoped>\n    .dataframe tbody tr th:only-of-type {\n        vertical-align: middle;\n    }\n\n    .dataframe tbody tr th {\n        vertical-align: top;\n    }\n\n    .dataframe thead th {\n        text-align: right;\n    }\n</style>\n<table border=\"1\" class=\"dataframe\">\n  <thead>\n    <tr style=\"text-align: right;\">\n      <th></th>\n      <th>title</th>\n      <th>Cumulate Worldwide Gross en $</th>\n    </tr>\n  </thead>\n  <tbody>\n    <tr>\n      <th>3</th>\n      <td>Le parrain</td>\n      <td>246120986</td>\n    </tr>\n    <tr>\n      <th>1</th>\n      <td>Les Évadés</td>\n      <td>28817291</td>\n    </tr>\n    <tr>\n      <th>0</th>\n      <td>Hababam Sinifi</td>\n      <td>xxx</td>\n    </tr>\n    <tr>\n      <th>2</th>\n      <td>Aynabaji</td>\n      <td>xxx</td>\n    </tr>\n  </tbody>\n</table>\n</div>"
     },
     "metadata": {},
     "execution_count": 39
    }
   ],
   "source": [
    "df[['title', 'Cumulate Worldwide Gross en $']].sort_values('Cumulate Worldwide Gross en $').tail(10)"
   ]
  },
  {
   "cell_type": "code",
   "execution_count": 40,
   "metadata": {},
   "outputs": [],
   "source": [
    "## 5. Analyse de la popularité des films en fonction de leurs budgets"
   ]
  },
  {
   "cell_type": "code",
   "execution_count": 42,
   "metadata": {},
   "outputs": [
    {
     "output_type": "execute_result",
     "data": {
      "text/plain": [
       "                      title       vote\n",
       "budget en $                           \n",
       "6000000.0        Le parrain  1.657.565\n",
       "25000000.0       Les Évadés  2.392.668\n",
       "412946.33          Aynabaji     23.791\n",
       "xxx          Hababam Sinifi     38.145"
      ],
      "text/html": "<div>\n<style scoped>\n    .dataframe tbody tr th:only-of-type {\n        vertical-align: middle;\n    }\n\n    .dataframe tbody tr th {\n        vertical-align: top;\n    }\n\n    .dataframe thead th {\n        text-align: right;\n    }\n</style>\n<table border=\"1\" class=\"dataframe\">\n  <thead>\n    <tr style=\"text-align: right;\">\n      <th></th>\n      <th>title</th>\n      <th>vote</th>\n    </tr>\n    <tr>\n      <th>budget en $</th>\n      <th></th>\n      <th></th>\n    </tr>\n  </thead>\n  <tbody>\n    <tr>\n      <th>6000000.0</th>\n      <td>Le parrain</td>\n      <td>1.657.565</td>\n    </tr>\n    <tr>\n      <th>25000000.0</th>\n      <td>Les Évadés</td>\n      <td>2.392.668</td>\n    </tr>\n    <tr>\n      <th>412946.33</th>\n      <td>Aynabaji</td>\n      <td>23.791</td>\n    </tr>\n    <tr>\n      <th>xxx</th>\n      <td>Hababam Sinifi</td>\n      <td>38.145</td>\n    </tr>\n  </tbody>\n</table>\n</div>"
     },
     "metadata": {},
     "execution_count": 42
    }
   ],
   "source": [
    "data = df.set_index('budget en $')\n",
    "data.groupby(by='vote', axis=0, sort=True)[['title', 'vote']].apply(lambda x: x).sort_values('vote')"
   ]
  },
  {
   "cell_type": "code",
   "execution_count": null,
   "metadata": {},
   "outputs": [],
   "source": [
    "## 6. Distribution des revenus générés par genre de film"
   ]
  },
  {
   "cell_type": "code",
   "execution_count": 44,
   "metadata": {},
   "outputs": [
    {
     "output_type": "execute_result",
     "data": {
      "text/plain": [
       "                          title gross en $\n",
       "type                                      \n",
       "Drama                Les Évadés   28699976\n",
       "Comedy; Drama    Hababam Sinifi        xxx\n",
       "Crime; Mystery;        Aynabaji        xxx"
      ],
      "text/html": "<div>\n<style scoped>\n    .dataframe tbody tr th:only-of-type {\n        vertical-align: middle;\n    }\n\n    .dataframe tbody tr th {\n        vertical-align: top;\n    }\n\n    .dataframe thead th {\n        text-align: right;\n    }\n</style>\n<table border=\"1\" class=\"dataframe\">\n  <thead>\n    <tr style=\"text-align: right;\">\n      <th></th>\n      <th>title</th>\n      <th>gross en $</th>\n    </tr>\n    <tr>\n      <th>type</th>\n      <th></th>\n      <th></th>\n    </tr>\n  </thead>\n  <tbody>\n    <tr>\n      <th>Drama</th>\n      <td>Les Évadés</td>\n      <td>28699976</td>\n    </tr>\n    <tr>\n      <th>Comedy; Drama</th>\n      <td>Hababam Sinifi</td>\n      <td>xxx</td>\n    </tr>\n    <tr>\n      <th>Crime; Mystery;</th>\n      <td>Aynabaji</td>\n      <td>xxx</td>\n    </tr>\n  </tbody>\n</table>\n</div>"
     },
     "metadata": {},
     "execution_count": 44
    }
   ],
   "source": [
    "data = df.set_index('type')\n",
    "data.groupby(by='type')[['title', 'gross en $']].apply(lambda x: x).head(3).sort_values('gross en $')"
   ]
  },
  {
   "cell_type": "code",
   "execution_count": null,
   "metadata": {},
   "outputs": [],
   "source": [
    "## 7. Top 10 des films par retour sur investissement"
   ]
  },
  {
   "cell_type": "code",
   "execution_count": 49,
   "metadata": {},
   "outputs": [
    {
     "output_type": "execute_result",
     "data": {
      "text/plain": [
       "            title  gross en $\n",
       "0  Hababam Sinifi  28699976.0\n",
       "1      Les Évadés  28699976.0\n",
       "2        Aynabaji  28699976.0"
      ],
      "text/html": "<div>\n<style scoped>\n    .dataframe tbody tr th:only-of-type {\n        vertical-align: middle;\n    }\n\n    .dataframe tbody tr th {\n        vertical-align: top;\n    }\n\n    .dataframe thead th {\n        text-align: right;\n    }\n</style>\n<table border=\"1\" class=\"dataframe\">\n  <thead>\n    <tr style=\"text-align: right;\">\n      <th></th>\n      <th>title</th>\n      <th>gross en $</th>\n    </tr>\n  </thead>\n  <tbody>\n    <tr>\n      <th>0</th>\n      <td>Hababam Sinifi</td>\n      <td>28699976.0</td>\n    </tr>\n    <tr>\n      <th>1</th>\n      <td>Les Évadés</td>\n      <td>28699976.0</td>\n    </tr>\n    <tr>\n      <th>2</th>\n      <td>Aynabaji</td>\n      <td>28699976.0</td>\n    </tr>\n  </tbody>\n</table>\n</div>"
     },
     "metadata": {},
     "execution_count": 49
    }
   ],
   "source": [
    "df.groupby(by='gross en $', axis=0, sort=True)[['title', 'gross en $']].apply(lambda x: x).head(3)"
   ]
  },
  {
   "cell_type": "code",
   "execution_count": 45,
   "metadata": {},
   "outputs": [],
   "source": [
    "## 8. Note moyenne par année de sortie de film"
   ]
  },
  {
   "cell_type": "code",
   "execution_count": 46,
   "metadata": {},
   "outputs": [
    {
     "output_type": "execute_result",
     "data": {
      "text/plain": [
       "                       title gross en $\n",
       "release date                           \n",
       "1972              Le parrain  134966411\n",
       "1975          Hababam Sinifi        xxx\n",
       "1995              Les Évadés   28699976\n",
       "2016                Aynabaji        xxx"
      ],
      "text/html": "<div>\n<style scoped>\n    .dataframe tbody tr th:only-of-type {\n        vertical-align: middle;\n    }\n\n    .dataframe tbody tr th {\n        vertical-align: top;\n    }\n\n    .dataframe thead th {\n        text-align: right;\n    }\n</style>\n<table border=\"1\" class=\"dataframe\">\n  <thead>\n    <tr style=\"text-align: right;\">\n      <th></th>\n      <th>title</th>\n      <th>gross en $</th>\n    </tr>\n    <tr>\n      <th>release date</th>\n      <th></th>\n      <th></th>\n    </tr>\n  </thead>\n  <tbody>\n    <tr>\n      <th>1972</th>\n      <td>Le parrain</td>\n      <td>134966411</td>\n    </tr>\n    <tr>\n      <th>1975</th>\n      <td>Hababam Sinifi</td>\n      <td>xxx</td>\n    </tr>\n    <tr>\n      <th>1995</th>\n      <td>Les Évadés</td>\n      <td>28699976</td>\n    </tr>\n    <tr>\n      <th>2016</th>\n      <td>Aynabaji</td>\n      <td>xxx</td>\n    </tr>\n  </tbody>\n</table>\n</div>"
     },
     "metadata": {},
     "execution_count": 46
    }
   ],
   "source": [
    "data = df.set_index('release date')\n",
    "data.groupby(by=data.index.year, axis=0, sort=True)[['title', 'gross en $']].sum()"
   ]
  },
  {
   "cell_type": "code",
   "execution_count": null,
   "metadata": {},
   "outputs": [],
   "source": []
  }
 ]
}