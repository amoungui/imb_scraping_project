{
 "metadata": {
  "language_info": {
   "codemirror_mode": {
    "name": "ipython",
    "version": 3
   },
   "file_extension": ".py",
   "mimetype": "text/x-python",
   "name": "python",
   "nbconvert_exporter": "python",
   "pygments_lexer": "ipython3",
   "version": "3.9.4"
  },
  "orig_nbformat": 2,
  "kernelspec": {
   "name": "python394jvsc74a57bd05816d722a3f6aa50705253c5b625dfd78ce8b94c3c3dcd850208277684c17ed6",
   "display_name": "Python 3.9.4 64-bit ('Python39')"
  }
 },
 "nbformat": 4,
 "nbformat_minor": 2,
 "cells": [
  {
   "cell_type": "code",
   "execution_count": null,
   "metadata": {},
   "outputs": [],
   "source": []
  },
  {
   "cell_type": "code",
   "execution_count": 1,
   "metadata": {},
   "outputs": [],
   "source": [
    "%matplotlib inline\n",
    "import pandas as pd\n",
    "import numpy as np\n",
    "import seaborn as sns\n",
    "import matplotlib.pyplot as plt"
   ]
  },
  {
   "cell_type": "code",
   "execution_count": 2,
   "metadata": {},
   "outputs": [],
   "source": [
    "gdp = pd.read_csv(\"data/gdp.csv\")\n",
    "capita = pd.read_csv(\"data/capita.csv\")\n",
    "debt = pd.read_csv(\"data/debt.csv\")\n",
    "inflation = pd.read_csv(\"data/inflation.csv\")\n",
    "rate = pd.read_csv(\"data/rate.csv\")\n",
    "manufact = pd.read_csv(\"data/manufacturing.csv\")"
   ]
  },
  {
   "cell_type": "code",
   "execution_count": 3,
   "metadata": {},
   "outputs": [
    {
     "output_type": "execute_result",
     "data": {
      "text/plain": [
       "    Country Name                 2018                 2017  \\\n",
       "0  United States  $20,580,159,776,000  $19,519,353,692,000   \n",
       "1          China  $13,894,817,549,374  $12,310,409,370,893   \n",
       "\n",
       "                  2016                 2015                 2014  \n",
       "0  $18,714,960,538,000  $18,224,704,440,000  $17,527,163,695,000  \n",
       "1  $11,233,276,536,737  $11,061,553,079,876  $10,475,682,920,595  "
      ],
      "text/html": "<div>\n<style scoped>\n    .dataframe tbody tr th:only-of-type {\n        vertical-align: middle;\n    }\n\n    .dataframe tbody tr th {\n        vertical-align: top;\n    }\n\n    .dataframe thead th {\n        text-align: right;\n    }\n</style>\n<table border=\"1\" class=\"dataframe\">\n  <thead>\n    <tr style=\"text-align: right;\">\n      <th></th>\n      <th>Country Name</th>\n      <th>2018</th>\n      <th>2017</th>\n      <th>2016</th>\n      <th>2015</th>\n      <th>2014</th>\n    </tr>\n  </thead>\n  <tbody>\n    <tr>\n      <th>0</th>\n      <td>United States</td>\n      <td>$20,580,159,776,000</td>\n      <td>$19,519,353,692,000</td>\n      <td>$18,714,960,538,000</td>\n      <td>$18,224,704,440,000</td>\n      <td>$17,527,163,695,000</td>\n    </tr>\n    <tr>\n      <th>1</th>\n      <td>China</td>\n      <td>$13,894,817,549,374</td>\n      <td>$12,310,409,370,893</td>\n      <td>$11,233,276,536,737</td>\n      <td>$11,061,553,079,876</td>\n      <td>$10,475,682,920,595</td>\n    </tr>\n  </tbody>\n</table>\n</div>"
     },
     "metadata": {},
     "execution_count": 3
    }
   ],
   "source": [
    "gdp.head(2)"
   ]
  },
  {
   "cell_type": "code",
   "execution_count": 4,
   "metadata": {},
   "outputs": [
    {
     "output_type": "execute_result",
     "data": {
      "text/plain": [
       "    Country Name                 2018                 2017  \\\n",
       "0  United States  $20,580,159,776,000  $19,519,353,692,000   \n",
       "1          China  $13,894,817,549,374  $12,310,409,370,893   \n",
       "\n",
       "                  2016                 2015                 2014  \n",
       "0  $18,714,960,538,000  $18,224,704,440,000  $17,527,163,695,000  \n",
       "1  $11,233,276,536,737  $11,061,553,079,876  $10,475,682,920,595  "
      ],
      "text/html": "<div>\n<style scoped>\n    .dataframe tbody tr th:only-of-type {\n        vertical-align: middle;\n    }\n\n    .dataframe tbody tr th {\n        vertical-align: top;\n    }\n\n    .dataframe thead th {\n        text-align: right;\n    }\n</style>\n<table border=\"1\" class=\"dataframe\">\n  <thead>\n    <tr style=\"text-align: right;\">\n      <th></th>\n      <th>Country Name</th>\n      <th>2018</th>\n      <th>2017</th>\n      <th>2016</th>\n      <th>2015</th>\n      <th>2014</th>\n    </tr>\n  </thead>\n  <tbody>\n    <tr>\n      <th>0</th>\n      <td>United States</td>\n      <td>$20,580,159,776,000</td>\n      <td>$19,519,353,692,000</td>\n      <td>$18,714,960,538,000</td>\n      <td>$18,224,704,440,000</td>\n      <td>$17,527,163,695,000</td>\n    </tr>\n    <tr>\n      <th>1</th>\n      <td>China</td>\n      <td>$13,894,817,549,374</td>\n      <td>$12,310,409,370,893</td>\n      <td>$11,233,276,536,737</td>\n      <td>$11,061,553,079,876</td>\n      <td>$10,475,682,920,595</td>\n    </tr>\n  </tbody>\n</table>\n</div>"
     },
     "metadata": {},
     "execution_count": 4
    }
   ],
   "source": [
    "capita.head(2)"
   ]
  },
  {
   "cell_type": "code",
   "execution_count": 5,
   "metadata": {},
   "outputs": [
    {
     "output_type": "execute_result",
     "data": {
      "text/plain": [
       "    Country Name                 2018                 2017  \\\n",
       "0  United States  $20,580,159,776,000  $19,519,353,692,000   \n",
       "1          China  $13,894,817,549,374  $12,310,409,370,893   \n",
       "\n",
       "                  2016                 2015                 2014  \n",
       "0  $18,714,960,538,000  $18,224,704,440,000  $17,527,163,695,000  \n",
       "1  $11,233,276,536,737  $11,061,553,079,876  $10,475,682,920,595  "
      ],
      "text/html": "<div>\n<style scoped>\n    .dataframe tbody tr th:only-of-type {\n        vertical-align: middle;\n    }\n\n    .dataframe tbody tr th {\n        vertical-align: top;\n    }\n\n    .dataframe thead th {\n        text-align: right;\n    }\n</style>\n<table border=\"1\" class=\"dataframe\">\n  <thead>\n    <tr style=\"text-align: right;\">\n      <th></th>\n      <th>Country Name</th>\n      <th>2018</th>\n      <th>2017</th>\n      <th>2016</th>\n      <th>2015</th>\n      <th>2014</th>\n    </tr>\n  </thead>\n  <tbody>\n    <tr>\n      <th>0</th>\n      <td>United States</td>\n      <td>$20,580,159,776,000</td>\n      <td>$19,519,353,692,000</td>\n      <td>$18,714,960,538,000</td>\n      <td>$18,224,704,440,000</td>\n      <td>$17,527,163,695,000</td>\n    </tr>\n    <tr>\n      <th>1</th>\n      <td>China</td>\n      <td>$13,894,817,549,374</td>\n      <td>$12,310,409,370,893</td>\n      <td>$11,233,276,536,737</td>\n      <td>$11,061,553,079,876</td>\n      <td>$10,475,682,920,595</td>\n    </tr>\n  </tbody>\n</table>\n</div>"
     },
     "metadata": {},
     "execution_count": 5
    }
   ],
   "source": [
    "debt.head(2)"
   ]
  },
  {
   "cell_type": "code",
   "execution_count": 5,
   "metadata": {},
   "outputs": [
    {
     "output_type": "execute_result",
     "data": {
      "text/plain": [
       "    Country Name                 2018                 2017  \\\n",
       "0  United States  $20,580,159,776,000  $19,519,353,692,000   \n",
       "1          China  $13,894,817,549,374  $12,310,409,370,893   \n",
       "\n",
       "                  2016                 2015                 2014  \n",
       "0  $18,714,960,538,000  $18,224,704,440,000  $17,527,163,695,000  \n",
       "1  $11,233,276,536,737  $11,061,553,079,876  $10,475,682,920,595  "
      ],
      "text/html": "<div>\n<style scoped>\n    .dataframe tbody tr th:only-of-type {\n        vertical-align: middle;\n    }\n\n    .dataframe tbody tr th {\n        vertical-align: top;\n    }\n\n    .dataframe thead th {\n        text-align: right;\n    }\n</style>\n<table border=\"1\" class=\"dataframe\">\n  <thead>\n    <tr style=\"text-align: right;\">\n      <th></th>\n      <th>Country Name</th>\n      <th>2018</th>\n      <th>2017</th>\n      <th>2016</th>\n      <th>2015</th>\n      <th>2014</th>\n    </tr>\n  </thead>\n  <tbody>\n    <tr>\n      <th>0</th>\n      <td>United States</td>\n      <td>$20,580,159,776,000</td>\n      <td>$19,519,353,692,000</td>\n      <td>$18,714,960,538,000</td>\n      <td>$18,224,704,440,000</td>\n      <td>$17,527,163,695,000</td>\n    </tr>\n    <tr>\n      <th>1</th>\n      <td>China</td>\n      <td>$13,894,817,549,374</td>\n      <td>$12,310,409,370,893</td>\n      <td>$11,233,276,536,737</td>\n      <td>$11,061,553,079,876</td>\n      <td>$10,475,682,920,595</td>\n    </tr>\n  </tbody>\n</table>\n</div>"
     },
     "metadata": {},
     "execution_count": 5
    }
   ],
   "source": [
    "inflation.head(2)"
   ]
  },
  {
   "cell_type": "code",
   "execution_count": 8,
   "metadata": {},
   "outputs": [
    {
     "output_type": "execute_result",
     "data": {
      "text/plain": [
       "    Country Name                 2018                 2017  \\\n",
       "0  United States  $20,580,159,776,000  $19,519,353,692,000   \n",
       "1          China  $13,894,817,549,374  $12,310,409,370,893   \n",
       "\n",
       "                  2016                 2015                 2014  \n",
       "0  $18,714,960,538,000  $18,224,704,440,000  $17,527,163,695,000  \n",
       "1  $11,233,276,536,737  $11,061,553,079,876  $10,475,682,920,595  "
      ],
      "text/html": "<div>\n<style scoped>\n    .dataframe tbody tr th:only-of-type {\n        vertical-align: middle;\n    }\n\n    .dataframe tbody tr th {\n        vertical-align: top;\n    }\n\n    .dataframe thead th {\n        text-align: right;\n    }\n</style>\n<table border=\"1\" class=\"dataframe\">\n  <thead>\n    <tr style=\"text-align: right;\">\n      <th></th>\n      <th>Country Name</th>\n      <th>2018</th>\n      <th>2017</th>\n      <th>2016</th>\n      <th>2015</th>\n      <th>2014</th>\n    </tr>\n  </thead>\n  <tbody>\n    <tr>\n      <th>0</th>\n      <td>United States</td>\n      <td>$20,580,159,776,000</td>\n      <td>$19,519,353,692,000</td>\n      <td>$18,714,960,538,000</td>\n      <td>$18,224,704,440,000</td>\n      <td>$17,527,163,695,000</td>\n    </tr>\n    <tr>\n      <th>1</th>\n      <td>China</td>\n      <td>$13,894,817,549,374</td>\n      <td>$12,310,409,370,893</td>\n      <td>$11,233,276,536,737</td>\n      <td>$11,061,553,079,876</td>\n      <td>$10,475,682,920,595</td>\n    </tr>\n  </tbody>\n</table>\n</div>"
     },
     "metadata": {},
     "execution_count": 8
    }
   ],
   "source": [
    "rate.head(2)"
   ]
  },
  {
   "cell_type": "code",
   "execution_count": 7,
   "metadata": {},
   "outputs": [
    {
     "output_type": "execute_result",
     "data": {
      "text/plain": [
       "    Country Name                 2018                 2017  \\\n",
       "0  United States  $20,580,159,776,000  $19,519,353,692,000   \n",
       "1          China  $13,894,817,549,374  $12,310,409,370,893   \n",
       "\n",
       "                  2016                 2015                 2014  \n",
       "0  $18,714,960,538,000  $18,224,704,440,000  $17,527,163,695,000  \n",
       "1  $11,233,276,536,737  $11,061,553,079,876  $10,475,682,920,595  "
      ],
      "text/html": "<div>\n<style scoped>\n    .dataframe tbody tr th:only-of-type {\n        vertical-align: middle;\n    }\n\n    .dataframe tbody tr th {\n        vertical-align: top;\n    }\n\n    .dataframe thead th {\n        text-align: right;\n    }\n</style>\n<table border=\"1\" class=\"dataframe\">\n  <thead>\n    <tr style=\"text-align: right;\">\n      <th></th>\n      <th>Country Name</th>\n      <th>2018</th>\n      <th>2017</th>\n      <th>2016</th>\n      <th>2015</th>\n      <th>2014</th>\n    </tr>\n  </thead>\n  <tbody>\n    <tr>\n      <th>0</th>\n      <td>United States</td>\n      <td>$20,580,159,776,000</td>\n      <td>$19,519,353,692,000</td>\n      <td>$18,714,960,538,000</td>\n      <td>$18,224,704,440,000</td>\n      <td>$17,527,163,695,000</td>\n    </tr>\n    <tr>\n      <th>1</th>\n      <td>China</td>\n      <td>$13,894,817,549,374</td>\n      <td>$12,310,409,370,893</td>\n      <td>$11,233,276,536,737</td>\n      <td>$11,061,553,079,876</td>\n      <td>$10,475,682,920,595</td>\n    </tr>\n  </tbody>\n</table>\n</div>"
     },
     "metadata": {},
     "execution_count": 7
    }
   ],
   "source": [
    "manufact.head(2)"
   ]
  },
  {
   "cell_type": "code",
   "execution_count": 9,
   "metadata": {},
   "outputs": [],
   "source": [
    "\n"
   ]
  },
  {
   "cell_type": "code",
   "execution_count": null,
   "metadata": {},
   "outputs": [],
   "source": []
  }
 ]
}